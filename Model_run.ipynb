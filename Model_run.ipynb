{
 "cells": [
  {
   "cell_type": "code",
   "execution_count": 19,
   "id": "9b039564",
   "metadata": {},
   "outputs": [],
   "source": [
    "import pandas as pd\n",
    "from Opt_model import build_model"
   ]
  },
  {
   "cell_type": "code",
   "execution_count": 40,
   "id": "3d2f4202",
   "metadata": {},
   "outputs": [],
   "source": [
    "# Load data from Excel files\n",
    "file_path = \"D:\\\\3. study at TUD\\\\SoSe 25\\\\7. Gurobi\\\\NERD_case_data.xlsx\"\n",
    "\n",
    "# One of DC/RDC name is \"NA\" in the Excel file, which is not a valid column name in pandas.\n",
    "# To avoid issues, we will read the data with na_values set to an empty list and keep_default_na set to False.\n",
    "# Read the data from the specified sheets\n",
    "rdc_demand_df = pd.read_excel(file_path, sheet_name=\"RDC_Demand\", na_values=[], keep_default_na=False)\n",
    "dc_capacity_df = pd.read_excel(file_path, sheet_name=\"DC_Capacity\", na_values=[], keep_default_na=False)\n",
    "dc_costs_df = pd.read_excel(file_path, sheet_name=\"DC_Costs\", na_values=[], keep_default_na=False)\n",
    "plant_var_cost_df = pd.read_excel(file_path, sheet_name=\"Plant_Var_Costs\", na_values=[], keep_default_na=False)\n",
    "inbound_cost_df = pd.read_excel(file_path, sheet_name=\"IB_Costs\", na_values=[], keep_default_na=False)\n",
    "outbound_cost_df = pd.read_excel(file_path, sheet_name=\"OB_Costs\", na_values=[], keep_default_na=False)"
   ]
  },
  {
   "cell_type": "code",
   "execution_count": 41,
   "id": "faf3aada",
   "metadata": {},
   "outputs": [
    {
     "name": "stdout",
     "output_type": "stream",
     "text": [
      "   RDC  Demand_bl_per_week\n",
      "0   BO                 450\n",
      "1   BR                  60\n",
      "2   CO                  80\n",
      "3   HA                 130\n",
      "4   MN                 110\n",
      "5   NA                 140\n",
      "6   NH                 140\n",
      "7   NL                  70\n",
      "8   PO                 120\n",
      "9   PR                 310\n",
      "10  SP                 200\n",
      "11  WO                 190 \n",
      "\n",
      "   DC  DC Cap\n",
      "0  BO    1000\n",
      "1  NA     500\n",
      "2  PR    1000\n",
      "3  SP     500\n",
      "4  WO    1000 \n",
      "\n",
      "   DC  Var Cost  Fixed Cost\n",
      "0  BO      1.50       11000\n",
      "1  NA      0.95        5000\n",
      "2  PR      1.05        9000\n",
      "3  SP      1.10        8000\n",
      "4  WO      1.12        7000 \n",
      "\n",
      "  Plant  Var Cost\n",
      "0   BFP      2.00\n",
      "1   SCP      0.75 \n",
      "\n",
      "   DC   BFP   SCP\n",
      "0  BO  3.40  4.80\n",
      "1  NA  3.00  5.25\n",
      "2  PR  4.40  5.12\n",
      "3  SP  3.04  4.00\n",
      "4  WO  3.36  4.20 \n",
      "\n",
      "   DC     BO     BR     CO     HA     MN     NA     NH     NL     PO     PR  \\\n",
      "0  BO   4.40  51.15  37.95  53.90  30.25  20.35  70.40  52.25  34.10  23.10   \n",
      "1  NA  20.35  35.75  18.15  56.65  11.00   6.60  75.35  62.15  26.40  39.60   \n",
      "2  PR  23.10  58.30  57.75  40.15  50.60  39.60  51.70  31.35  57.20   9.35   \n",
      "3  SP  45.10  32.45  55.55  14.85  51.15  43.45  34.65  31.35  69.85  37.40   \n",
      "4  WO  18.70  37.40  39.60  36.30  33.00  22.55  53.90  39.05  46.75  20.90   \n",
      "\n",
      "      SP     WO  \n",
      "0  45.10  18.70  \n",
      "1  43.45  22.55  \n",
      "2  37.40  20.90  \n",
      "3   6.60  25.85  \n",
      "4  25.85   9.90   \n",
      "\n"
     ]
    }
   ],
   "source": [
    "#Check data imported\n",
    "print(rdc_demand_df, \"\\n\")\n",
    "print(dc_capacity_df, \"\\n\")\n",
    "print(dc_costs_df, \"\\n\")\n",
    "print(plant_var_cost_df, \"\\n\")\n",
    "print(inbound_cost_df, \"\\n\")\n",
    "print(outbound_cost_df, \"\\n\")\n"
   ]
  },
  {
   "cell_type": "code",
   "execution_count": 42,
   "id": "076f986b",
   "metadata": {},
   "outputs": [],
   "source": [
    "# convert the DataFrame to a dictionary for Fast, Direct Access to Each Value\n",
    "rdc_demand = dict(zip(rdc_demand_df['RDC'], rdc_demand_df['Demand_bl_per_week']))\n",
    "dc_capacity = dict(zip(dc_capacity_df['DC'], dc_capacity_df['DC Cap']))\n",
    "dc_fixed_cost = dict(zip(dc_costs_df['DC'], dc_costs_df['Fixed Cost']))\n",
    "dc_var_cost = dict(zip(dc_costs_df['DC'], dc_costs_df['Var Cost']))\n",
    "plant_var_cost = dict(zip(plant_var_cost_df['Plant'], plant_var_cost_df['Var Cost']))\n",
    "\n",
    "inbound_cost = {}\n",
    "for _, row in inbound_cost_df.iterrows():\n",
    "    dc = row['DC']\n",
    "    inbound_cost[('BFP', dc)] = row['BFP']\n",
    "    inbound_cost[('SCP', dc)] = row['SCP']\n",
    "\n",
    "outbound_cost = {}\n",
    "\n",
    "for _, row in outbound_cost_df.iterrows():\n",
    "    dc = row['DC']  # DC from the first column\n",
    "    for rdc in outbound_cost_df.columns[1:]:  # skip 'DC' column\n",
    "        outbound_cost[(dc, rdc)] = row[rdc]\n"
   ]
  },
  {
   "cell_type": "code",
   "execution_count": 43,
   "id": "2ea2d996",
   "metadata": {},
   "outputs": [
    {
     "name": "stdout",
     "output_type": "stream",
     "text": [
      "51.150000000000006\n"
     ]
    }
   ],
   "source": [
    "#Check correctness of the data\n",
    "print(outbound_cost[('BO', 'BR')])  # should return 51.15"
   ]
  },
  {
   "cell_type": "code",
   "execution_count": 44,
   "id": "b6fc24b6",
   "metadata": {},
   "outputs": [],
   "source": [
    "# Set sets\n",
    "plants = ['BFP', 'SCP']\n",
    "dcs = list(dc_capacity.keys())\n",
    "rdcs = list(rdc_demand.keys())"
   ]
  },
  {
   "cell_type": "code",
   "execution_count": 48,
   "id": "3ee77e9e",
   "metadata": {},
   "outputs": [
    {
     "name": "stdout",
     "output_type": "stream",
     "text": [
      "Plants:  ['BFP', 'SCP']\n",
      "DCs:  ['BO', 'NA', 'PR', 'SP', 'WO']\n",
      "RDCs:  ['BO', 'BR', 'CO', 'HA', 'MN', 'NA', 'NH', 'NL', 'PO', 'PR', 'SP', 'WO']\n"
     ]
    }
   ],
   "source": [
    "# Check sets\n",
    "print(\"Plants: \", plants)\n",
    "print(\"DCs: \", dcs)\n",
    "print(\"RDCs: \", rdcs)\n"
   ]
  },
  {
   "cell_type": "code",
   "execution_count": 46,
   "id": "a6c78054",
   "metadata": {},
   "outputs": [
    {
     "name": "stdout",
     "output_type": "stream",
     "text": [
      "Gurobi Optimizer version 12.0.2 build v12.0.2rc0 (win64 - Windows 11.0 (26100.2))\n",
      "\n",
      "CPU model: 11th Gen Intel(R) Core(TM) i7-11800H @ 2.30GHz, instruction set [SSE2|AVX|AVX2|AVX512]\n",
      "Thread count: 8 physical cores, 16 logical processors, using up to 16 threads\n",
      "\n",
      "Optimize a model with 22 rows, 75 columns and 195 nonzeros\n",
      "Model fingerprint: 0x84e23342\n",
      "Variable types: 70 continuous, 5 integer (5 binary)\n",
      "Coefficient statistics:\n",
      "  Matrix range     [1e+00, 1e+03]\n",
      "  Objective range  [5e+00, 1e+04]\n",
      "  Bounds range     [1e+00, 1e+00]\n",
      "  RHS range        [6e+01, 5e+02]\n",
      "Presolve removed 5 rows and 10 columns\n",
      "Presolve time: 0.02s\n",
      "Presolved: 17 rows, 65 columns, 125 nonzeros\n",
      "Variable types: 60 continuous, 5 integer (5 binary)\n",
      "Found heuristic solution: objective 78524.400000\n",
      "\n",
      "Root relaxation: objective 6.087260e+04, 7 iterations, 0.00 seconds (0.00 work units)\n",
      "\n",
      "    Nodes    |    Current Node    |     Objective Bounds      |     Work\n",
      " Expl Unexpl |  Obj  Depth IntInf | Incumbent    BestBd   Gap | It/Node Time\n",
      "\n",
      "     0     0 60872.6000    0    5 78524.4000 60872.6000  22.5%     -    0s\n",
      "H    0     0                    73794.100000 60872.6000  17.5%     -    0s\n",
      "H    0     0                    68264.500000 68264.5000  0.00%     -    0s\n",
      "     0     0          -    0      68264.5000 68264.5000  0.00%     -    0s\n",
      "\n",
      "Cutting planes:\n",
      "  Implied bound: 12\n",
      "  Flow cover: 2\n",
      "\n",
      "Explored 1 nodes (13 simplex iterations) in 0.07 seconds (0.00 work units)\n",
      "Thread count was 16 (of 16 available processors)\n",
      "\n",
      "Solution count 3: 68264.5 73794.1 78524.4 \n",
      "\n",
      "Optimal solution found (tolerance 1.00e-04)\n",
      "Best objective 6.826450000000e+04, best bound 6.826450000000e+04, gap 0.0000%\n"
     ]
    }
   ],
   "source": [
    "# Build and solve model\n",
    "model, x, y, z = build_model(plants, dcs, rdcs, rdc_demand, dc_capacity, dc_fixed_cost, dc_var_cost, plant_var_cost, inbound_cost, outbound_cost)\n",
    "model.optimize()"
   ]
  },
  {
   "cell_type": "code",
   "execution_count": 55,
   "id": "ec2a5f98",
   "metadata": {},
   "outputs": [
    {
     "name": "stdout",
     "output_type": "stream",
     "text": [
      "Total Cost: 68264.50\n",
      "Opened DC: NA\n",
      "Opened DC: SP\n",
      "Opened DC: WO\n"
     ]
    }
   ],
   "source": [
    "# Print facilicy opening results\n",
    "if model.status == 2:\n",
    "    print(f\"Total Cost: {model.ObjVal:.2f}\")\n",
    "    for i in dcs:\n",
    "        if y[i].X > 0.5:\n",
    "            print(f\"Opened DC: {i}\")"
   ]
  },
  {
   "cell_type": "code",
   "execution_count": null,
   "id": "128535ea",
   "metadata": {},
   "outputs": [],
   "source": []
  },
  {
   "cell_type": "code",
   "execution_count": 56,
   "id": "63bd97d2",
   "metadata": {},
   "outputs": [
    {
     "name": "stdout",
     "output_type": "stream",
     "text": [
      "Total Cost: 68264.50\n",
      "Fixed DC Costs:     20000.00\n",
      "Inbound Costs:      9825.00\n",
      "Outbound Costs:     38439.50\n",
      "\n",
      " Inbound Shipments (Plant → DC):\n",
      "BFP → NA: 500.0 barrels\n",
      "SCP → SP: 500.0 barrels\n",
      "SCP → WO: 1000.0 barrels\n",
      "\n",
      " Outbound Shipments (DC → RDC):\n",
      "NA → BR: 50.0 barrels\n",
      "NA → CO: 80.0 barrels\n",
      "NA → MN: 110.0 barrels\n",
      "NA → NA: 140.0 barrels\n",
      "NA → PO: 120.0 barrels\n",
      "SP → HA: 130.0 barrels\n",
      "SP → NH: 140.0 barrels\n",
      "SP → NL: 30.0 barrels\n",
      "SP → SP: 200.0 barrels\n",
      "WO → BO: 450.0 barrels\n",
      "WO → BR: 10.0 barrels\n",
      "WO → NL: 40.0 barrels\n",
      "WO → PR: 310.0 barrels\n",
      "WO → WO: 190.0 barrels\n",
      "\n",
      " RDC Demand Satisfaction:\n",
      "BO: Demand = 450, Delivered = 450.0\n",
      "BR: Demand = 60, Delivered = 60.0\n",
      "CO: Demand = 80, Delivered = 80.0\n",
      "HA: Demand = 130, Delivered = 130.0\n",
      "MN: Demand = 110, Delivered = 110.0\n",
      "NA: Demand = 140, Delivered = 140.0\n",
      "NH: Demand = 140, Delivered = 140.0\n",
      "NL: Demand = 70, Delivered = 70.0\n",
      "PO: Demand = 120, Delivered = 120.0\n",
      "PR: Demand = 310, Delivered = 310.0\n",
      "SP: Demand = 200, Delivered = 200.0\n",
      "WO: Demand = 190, Delivered = 190.0\n"
     ]
    }
   ],
   "source": [
    "# Total Cost Breakdown\n",
    "print(f\"Total Cost: {model.ObjVal:.2f}\")\n",
    "fixed_cost_total = sum(dc_fixed_cost[i] * y[i].X for i in dcs)\n",
    "inbound_cost_total = sum((plant_var_cost[p] + inbound_cost[(p, i)]) * z[p, i].X for p in plants for i in dcs)\n",
    "outbound_cost_total = sum((dc_var_cost[i] + outbound_cost[(i, j)]) * x[i, j].X for i in dcs for j in rdcs)\n",
    "\n",
    "print(f\"Fixed DC Costs:     {fixed_cost_total:.2f}\")\n",
    "print(f\"Inbound Costs:      {inbound_cost_total:.2f}\")\n",
    "print(f\"Outbound Costs:     {outbound_cost_total:.2f}\")\n",
    "\n",
    "#Print Inbound Shipments (from Plant to DC)\n",
    "print(\"\\n Inbound Shipments (Plant → DC):\")\n",
    "for p in plants:\n",
    "    for i in dcs:\n",
    "        if z[p, i].X > 0:\n",
    "            print(f\"{p} → {i}: {z[p, i].X:.1f} barrels\")\n",
    "\n",
    "#Print Outbound Shipments (from DC to RDC)\n",
    "print(\"\\n Outbound Shipments (DC → RDC):\")\n",
    "for i in dcs:\n",
    "    for j in rdcs:\n",
    "        if x[i, j].X > 0:\n",
    "            print(f\"{i} → {j}: {x[i, j].X:.1f} barrels\")\n",
    "\n",
    "# Recheck Demand requirements\n",
    "print(\"\\n RDC Demand Satisfaction:\")\n",
    "for j in rdcs:\n",
    "    received = sum(x[i, j].X for i in dcs)\n",
    "    print(f\"{j}: Demand = {rdc_demand[j]}, Delivered = {received:.1f}\")\n"
   ]
  }
 ],
 "metadata": {
  "kernelspec": {
   "display_name": "pyt",
   "language": "python",
   "name": "python3"
  },
  "language_info": {
   "codemirror_mode": {
    "name": "ipython",
    "version": 3
   },
   "file_extension": ".py",
   "mimetype": "text/x-python",
   "name": "python",
   "nbconvert_exporter": "python",
   "pygments_lexer": "ipython3",
   "version": "3.12.9"
  }
 },
 "nbformat": 4,
 "nbformat_minor": 5
}
